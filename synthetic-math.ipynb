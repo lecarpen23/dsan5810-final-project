{
 "cells": [
  {
   "cell_type": "markdown",
   "id": "29e5d37b",
   "metadata": {},
   "source": [
    "Inspired by https://github.com/liutiedong/goat/blob/main/dataset.ipynb"
   ]
  },
  {
   "cell_type": "code",
   "execution_count": 28,
   "id": "f9bcbb4a",
   "metadata": {},
   "outputs": [],
   "source": [
    "import numpy as np\n",
    "import pandas as pd\n",
    "import matplotlib.pyplot as plt\n",
    "from tqdm import tqdm\n",
    "import json\n",
    "import os\n",
    "import random\n",
    "from typing import Union"
   ]
  },
  {
   "cell_type": "markdown",
   "id": "184afca8",
   "metadata": {},
   "source": [
    "# Addition"
   ]
  },
  {
   "cell_type": "code",
   "execution_count": 29,
   "id": "31bbdd29",
   "metadata": {},
   "outputs": [
    {
     "name": "stdout",
     "output_type": "stream",
     "text": [
      "FIRST 5: [(9, 9), (7, 7), (9, 4), (6, 9), (9, 3)]\n",
      "MIN: (1, 1)\n",
      "MAX: (999770814029996, 651620692741683)\n",
      "Total: 304000\n"
     ]
    }
   ],
   "source": [
    "# Create addition examples\n",
    "\n",
    "# Creates\n",
    "pairs = \\\n",
    "[(random.randint(10**(i-1), 10**i), random.randint(10**(j-1), 10**j)) for i in range(1,16) for j in range(i,16) for k in range(1000)] +\\\n",
    "[(random.randint(10**(i-1), 10**i), random.randint(10**(j-1), 10**j)) for i in range(3,16) for j in range(i,16) for k in range(1000)] +\\\n",
    "[(random.randint(10**(i-1), 10**i), random.randint(10**(j-1), 10**j)) for i in range(6,16) for j in range(i,16) for k in range(1000)] +\\\n",
    "[(random.randint(10**(i-1), 10**i), random.randint(10**(j-1), 10**j)) for i in range(9,16) for j in range(i,16) for k in range(1000)] +\\\n",
    "[(random.randint(10**(i-1), 10**i), random.randint(10**(j-1), 10**j)) for i in range(12,16) for j in range(i,16) for k in range(1000)] \n",
    "\n",
    "print('FIRST 5:',pairs[:5])\n",
    "print('MIN:', min(pairs))\n",
    "print('MAX:', max(pairs))\n",
    "print('Total:', len(pairs))"
   ]
  },
  {
   "cell_type": "code",
   "execution_count": 33,
   "id": "0cd75d81",
   "metadata": {},
   "outputs": [
    {
     "name": "stderr",
     "output_type": "stream",
     "text": [
      "IOPub data rate exceeded.\n",
      "The notebook server will temporarily stop sending output\n",
      "to the client in order to avoid crashing it.\n",
      "To change this limit, set the config variable\n",
      "`--NotebookApp.iopub_data_rate_limit`.\n",
      "\n",
      "Current values:\n",
      "NotebookApp.iopub_data_rate_limit=1000000.0 (bytes/sec)\n",
      "NotebookApp.rate_limit_window=3.0 (secs)\n",
      "\n"
     ]
    }
   ],
   "source": [
    "# Shuffle data\n",
    "random.shuffle(pairs)\n",
    "\n",
    "print(\"Shuffled First 5:\", pairs)"
   ]
  },
  {
   "cell_type": "markdown",
   "id": "aab27b8a",
   "metadata": {},
   "source": [
    "Data successfully shuffled."
   ]
  },
  {
   "cell_type": "markdown",
   "id": "2052d799",
   "metadata": {},
   "source": [
    "## Create json"
   ]
  },
  {
   "cell_type": "code",
   "execution_count": 34,
   "id": "4d46ccde",
   "metadata": {},
   "outputs": [
    {
     "name": "stdout",
     "output_type": "stream",
     "text": [
      "{'input': '31471416137816 + 3030333', 'output': '31471416137816 + 3030333 = 31471419168149', 'answer': '31471419168149'}\n",
      "{'input': '86632945 + 673165', 'output': '86632945 + 673165 = 87306110', 'answer': '87306110'}\n"
     ]
    }
   ],
   "source": [
    "# Create output json\n",
    "addition_output = []\n",
    "\n",
    "# Do addition\n",
    "for num1, num2 in pairs:\n",
    "    \n",
    "    # Randomly swap numbers\n",
    "    if random.random()<0.5:\n",
    "        num1, num2 = num2, num1 \n",
    "\n",
    "    # Create Question and output\n",
    "    answer = num1 + num2\n",
    "    question = f\"{num1} + {num2}\" \n",
    "    output = f\"{num1} + {num2} = {answer}\"\n",
    "    \n",
    "    addition_output.append({'input': question, 'output': output, 'answer': str(answer)})\n",
    "    \n",
    "# View examples\n",
    "print(addition_output[0])\n",
    "print(addition_output[-1])"
   ]
  },
  {
   "cell_type": "code",
   "execution_count": 35,
   "id": "8b0fe9c0",
   "metadata": {},
   "outputs": [],
   "source": [
    "# Write output json\n",
    "addition_output_path = './data/addition_dataset.json'\n",
    "\n",
    "with open(addition_output_path, \"w\") as f:\n",
    "    json.dump(addition_output, f, indent=4)\n",
    "    \n",
    "# Verify creation\n",
    "assert(\"addition_dataset.json\" in os.listdir(\"data\"))"
   ]
  },
  {
   "cell_type": "code",
   "execution_count": 37,
   "id": "b614e8e9",
   "metadata": {},
   "outputs": [],
   "source": []
  },
  {
   "cell_type": "code",
   "execution_count": null,
   "id": "c71f5754",
   "metadata": {},
   "outputs": [],
   "source": []
  }
 ],
 "metadata": {
  "kernelspec": {
   "display_name": "venv",
   "language": "python",
   "name": "venv"
  },
  "language_info": {
   "codemirror_mode": {
    "name": "ipython",
    "version": 3
   },
   "file_extension": ".py",
   "mimetype": "text/x-python",
   "name": "python",
   "nbconvert_exporter": "python",
   "pygments_lexer": "ipython3",
   "version": "3.10.12"
  }
 },
 "nbformat": 4,
 "nbformat_minor": 5
}
