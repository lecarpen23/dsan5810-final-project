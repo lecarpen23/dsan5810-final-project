{
 "cells": [
  {
   "cell_type": "code",
   "execution_count": 2,
   "id": "392c025b",
   "metadata": {},
   "outputs": [],
   "source": [
    "input_file_path = '/workspace/anly5810/sandbox/save.conf'\n",
    "output_file_path = '/workspace/anly5810/sandbox/run_specs.conf'\n",
    "\n",
    "# Define the strings to search for and replace with\n",
    "search_for = 'tiiuae/falcon-7b'\n",
    "replace_with = 'stanford-crfm/BioMedLM'\n",
    "# tiiuae/falcon-7b\n",
    "# mistralai/mistral-7b-v0.1\n",
    "# 01-ai/yi-6b\n",
    "# microsoft/phi-2\n",
    "# lc1276/llama-2-7b-chat-hf-qint8-4th\n",
    "# stanford-crfm/BioMedLM\n",
    "\n",
    "# Open the input file and read the contents\n",
    "with open(input_file_path, 'r') as file:\n",
    "    file_contents = file.read()\n",
    "\n",
    "# Replace the specified string\n",
    "file_contents = file_contents.replace(search_for, replace_with)\n",
    "\n",
    "# Write the modified contents to the output file\n",
    "with open(output_file_path, 'w') as file:\n",
    "    file.write(file_contents)"
   ]
  }
 ],
 "metadata": {
  "kernelspec": {
   "display_name": "venv",
   "language": "python",
   "name": "venv"
  },
  "language_info": {
   "codemirror_mode": {
    "name": "ipython",
    "version": 3
   },
   "file_extension": ".py",
   "mimetype": "text/x-python",
   "name": "python",
   "nbconvert_exporter": "python",
   "pygments_lexer": "ipython3",
   "version": "3.10.12"
  }
 },
 "nbformat": 4,
 "nbformat_minor": 5
}
