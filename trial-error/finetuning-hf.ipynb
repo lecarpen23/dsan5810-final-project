{
 "cells": [
  {
   "cell_type": "markdown",
   "id": "144f84d0",
   "metadata": {},
   "source": [
    "This file seeks to use [SFTTrainer](https://huggingface.co/docs/trl/en/sft_trainer) from huggingface to train on custom data to make the process easier than configuring the dataset for llama-recipes which seems much more difficult."
   ]
  },
  {
   "cell_type": "code",
   "execution_count": 1,
   "id": "f61c81e8",
   "metadata": {},
   "outputs": [],
   "source": [
    "from datasets import load_dataset\n",
    "from trl import SFTTrainer\n",
    "from transformers import LlamaForCausalLM, LlamaTokenizer, BitsAndBytesConfig, AutoModelForCausalLM\n",
    "import torch\n",
    "import transformers"
   ]
  },
  {
   "cell_type": "code",
   "execution_count": null,
   "id": "953bf5eb",
   "metadata": {},
   "outputs": [],
   "source": [
    "# Load Model\n",
    "model_dir = \"./evaluation/local-models/llama-2-7b-chat-hf\"\n",
    "\n",
    "model = AutoModelForCausalLM.from_pretrained(\n",
    "    model_dir,\n",
    "    # QUANTIZE MODEL, NECESSARY STEP\n",
    "    quantization_config=BitsAndBytesConfig(\n",
    "                load_in_4bit=True,\n",
    "                bnb_4bit_compute_dtype=torch.bfloat16,\n",
    "                bnb_4bit_use_double_quant=True,\n",
    "                bnb_4bit_quant_type='nf4'\n",
    "            ))\n",
    "\n",
    "# Load Tokenizer\n",
    "tokenizer = LlamaTokenizer.from_pretrained(model_dir)\n",
    "\n",
    "# Specify device\n",
    "### NEEDED OR IT WILL BE INCREDIBLY SLOW\n",
    "device = torch.device(\"cuda\" if torch.cuda.is_available() else \"cpu\")\n",
    "print(\"Device is:\", device)\n",
    "\n",
    "# Create Pipeline\n",
    "pipeline = transformers.pipeline(\n",
    "    \"text-generation\",\n",
    "\n",
    "    model=model,\n",
    "\n",
    "    tokenizer=tokenizer,\n",
    "\n",
    "    torch_dtype=torch.float16,\n",
    ")"
   ]
  },
  {
   "cell_type": "markdown",
   "id": "bc67ca71",
   "metadata": {},
   "source": [
    "# Test math skills"
   ]
  },
  {
   "cell_type": "code",
   "execution_count": 3,
   "id": "6e694aca",
   "metadata": {},
   "outputs": [
    {
     "name": "stderr",
     "output_type": "stream",
     "text": [
      "Setting `pad_token_id` to `eos_token_id`:2 for open-end generation.\n",
      "Setting `pad_token_id` to `eos_token_id`:2 for open-end generation.\n"
     ]
    },
    {
     "name": "stdout",
     "output_type": "stream",
     "text": [
      "\n",
      "Question: What is 12345 + 54321?\n",
      "\n",
      "What is 12345 + 54321?\n",
      " obviously \n",
      "$$12345 + 54321 = 66766$$\n",
      "\n",
      "So the answer is $66766$.\n",
      "\n",
      "Real Answer: 66666\n",
      "\n",
      "Question: What is 45678243424 / 98765542?What is (10*9) + (2 * 5)?\n",
      "\n",
      "What is 45678243424 / 98765542?What is (10*9) + (2 * 5)?\n",
      "\n",
      "Real Answer: 462.4917000303608\n"
     ]
    }
   ],
   "source": [
    "prompts = [\n",
    "    \"What is 12345 + 54321?\",\n",
    "    \"What is 45678243424 / 98765542?\"\n",
    "    \"What is (10*9) + (2 * 5)?\"\n",
    "]\n",
    "answers = [\n",
    "    12345 + 54321, \n",
    "    45678243424 / 98765542,\n",
    "    (10*9) + (2 * 5)]\n",
    "\n",
    "for prompt, answer in zip(prompts, answers):\n",
    "    sequences = pipeline(\n",
    "        prompt,\n",
    "\n",
    "        do_sample=True,\n",
    "\n",
    "        top_k=10,\n",
    "\n",
    "        num_return_sequences=1,\n",
    "\n",
    "        eos_token_id=tokenizer.eos_token_id,\n",
    "\n",
    "        max_length=400,\n",
    "\n",
    "        truncation=True\n",
    "\n",
    "    )\n",
    "\n",
    "    # Update\n",
    "    print(f\"\\nQuestion: {prompt}\\n\")\n",
    "\n",
    "    # Print Output\n",
    "    for seq in sequences:\n",
    "\n",
    "        print(f\"{seq['generated_text']}\")\n",
    "        \n",
    "    print(f\"\\nReal Answer: {answer}\")"
   ]
  },
  {
   "cell_type": "markdown",
   "id": "99b22aa4",
   "metadata": {},
   "source": [
    "It got them all wrong! We can see it is close but hallucinates random digits on occasion."
   ]
  },
  {
   "cell_type": "markdown",
   "id": "2528b088",
   "metadata": {},
   "source": [
    "# Training"
   ]
  },
  {
   "cell_type": "code",
   "execution_count": 4,
   "id": "81186218",
   "metadata": {},
   "outputs": [
    {
     "name": "stdout",
     "output_type": "stream",
     "text": [
      "[{'input': '31471416137816 + 3030333', 'output': '31471416137816 + 3030333 = 31471419168149', 'answer': '31471419168149'}, {'input': '5390747146408 + 63', 'output': '5390747146408 + 63 = 5390747146471', 'answer': '5390747146471'}, {'input': '78574 + 84527', 'output': '78574 + 84527 = 163101', 'answer': '163101'}, {'input': '1071589 + 643041674321550', 'output': '1071589 + 643041674321550 = 643041675393139', 'answer': '643041675393139'}, {'input': '182833556 + 2840720893356', 'output': '182833556 + 2840720893356 = 2840903726912', 'answer': '2840903726912'}]\n"
     ]
    }
   ],
   "source": [
    "# Print first 5 addition examples\n",
    "import json\n",
    "\n",
    "addition_data = open(\"./data/addition_dataset.json\")\n",
    "addition_json = json.load(addition_data)\n",
    "addition_data.close()\n",
    "\n",
    "print(addition_json[:5])"
   ]
  },
  {
   "cell_type": "code",
   "execution_count": 5,
   "id": "73e89b76",
   "metadata": {},
   "outputs": [
    {
     "data": {
      "text/html": [
       "<div>\n",
       "<style scoped>\n",
       "    .dataframe tbody tr th:only-of-type {\n",
       "        vertical-align: middle;\n",
       "    }\n",
       "\n",
       "    .dataframe tbody tr th {\n",
       "        vertical-align: top;\n",
       "    }\n",
       "\n",
       "    .dataframe thead th {\n",
       "        text-align: right;\n",
       "    }\n",
       "</style>\n",
       "<table border=\"1\" class=\"dataframe\">\n",
       "  <thead>\n",
       "    <tr style=\"text-align: right;\">\n",
       "      <th></th>\n",
       "      <th>question</th>\n",
       "      <th>answer</th>\n",
       "    </tr>\n",
       "  </thead>\n",
       "  <tbody>\n",
       "    <tr>\n",
       "      <th>0</th>\n",
       "      <td>31471416137816 + 3030333</td>\n",
       "      <td>31471419168149</td>\n",
       "    </tr>\n",
       "    <tr>\n",
       "      <th>1</th>\n",
       "      <td>5390747146408 + 63</td>\n",
       "      <td>5390747146471</td>\n",
       "    </tr>\n",
       "    <tr>\n",
       "      <th>2</th>\n",
       "      <td>78574 + 84527</td>\n",
       "      <td>163101</td>\n",
       "    </tr>\n",
       "    <tr>\n",
       "      <th>3</th>\n",
       "      <td>1071589 + 643041674321550</td>\n",
       "      <td>643041675393139</td>\n",
       "    </tr>\n",
       "    <tr>\n",
       "      <th>4</th>\n",
       "      <td>182833556 + 2840720893356</td>\n",
       "      <td>2840903726912</td>\n",
       "    </tr>\n",
       "  </tbody>\n",
       "</table>\n",
       "</div>"
      ],
      "text/plain": [
       "                    question           answer\n",
       "0   31471416137816 + 3030333   31471419168149\n",
       "1         5390747146408 + 63    5390747146471\n",
       "2              78574 + 84527           163101\n",
       "3  1071589 + 643041674321550  643041675393139\n",
       "4  182833556 + 2840720893356    2840903726912"
      ]
     },
     "execution_count": 5,
     "metadata": {},
     "output_type": "execute_result"
    }
   ],
   "source": [
    "import pandas as pd\n",
    "\n",
    "# Keep only input and output fields\n",
    "clean_data = [{'question': entry['input'], 'answer': entry['answer']} for entry in addition_json]\n",
    "\n",
    "df = pd.DataFrame(clean_data)\n",
    "\n",
    "df.head()"
   ]
  },
  {
   "cell_type": "code",
   "execution_count": 6,
   "id": "9bb8b007",
   "metadata": {},
   "outputs": [],
   "source": [
    "# From https://huggingface.co/docs/trl/en/sft_trainer\n",
    "def formatting_prompts_func(example):\n",
    "    output_texts = []\n",
    "    for i in range(len(example['question'])):\n",
    "        text = f\"### Question: {example['question'][i]}\\n ### Answer: {example['answer'][i]}\"\n",
    "        output_texts.append(text)\n",
    "    return output_texts"
   ]
  },
  {
   "cell_type": "code",
   "execution_count": 7,
   "id": "3e79212b",
   "metadata": {},
   "outputs": [],
   "source": [
    "# Make the dataframe tiny to check if that is the problem\n",
    "tiny_df = df.head(10)"
   ]
  },
  {
   "cell_type": "code",
   "execution_count": 8,
   "id": "08b2118c",
   "metadata": {},
   "outputs": [
    {
     "data": {
      "text/plain": [
       "Dataset({\n",
       "    features: ['question', 'answer'],\n",
       "    num_rows: 10\n",
       "})"
      ]
     },
     "execution_count": 8,
     "metadata": {},
     "output_type": "execute_result"
    }
   ],
   "source": [
    "from datasets import Dataset\n",
    "\n",
    "# Convert dataset to huggingface\n",
    "data = Dataset.from_pandas(df)\n",
    "tiny_data = Dataset.from_pandas(tiny_df)\n",
    "\n",
    "tiny_data"
   ]
  },
  {
   "cell_type": "code",
   "execution_count": 9,
   "id": "689682f1",
   "metadata": {},
   "outputs": [
    {
     "data": {
      "text/plain": [
       "['### Question: 31471416137816 + 3030333\\n ### Answer: 31471419168149',\n",
       " '### Question: 5390747146408 + 63\\n ### Answer: 5390747146471',\n",
       " '### Question: 78574 + 84527\\n ### Answer: 163101',\n",
       " '### Question: 1071589 + 643041674321550\\n ### Answer: 643041675393139',\n",
       " '### Question: 182833556 + 2840720893356\\n ### Answer: 2840903726912',\n",
       " '### Question: 85475562968 + 362970762818695\\n ### Answer: 363056238381663',\n",
       " '### Question: 442420836941876 + 343536963733045\\n ### Answer: 785957800674921',\n",
       " '### Question: 93416902250747 + 40563968175152\\n ### Answer: 133980870425899',\n",
       " '### Question: 9718915233811 + 5833558625795\\n ### Answer: 15552473859606',\n",
       " '### Question: 70817378248043 + 20419152271408\\n ### Answer: 91236530519451']"
      ]
     },
     "execution_count": 9,
     "metadata": {},
     "output_type": "execute_result"
    }
   ],
   "source": [
    "# Test formatter\n",
    "formatting_prompts_func(tiny_data[:10])"
   ]
  },
  {
   "cell_type": "code",
   "execution_count": 10,
   "id": "ca31516a",
   "metadata": {},
   "outputs": [
    {
     "name": "stdout",
     "output_type": "stream",
     "text": [
      "Max Seq:  33\n"
     ]
    }
   ],
   "source": [
    "# Get longest sequence from data\n",
    "max_seq = max([len(q) for q in df['question']])\n",
    "\n",
    "print(\"Max Seq: \", max_seq)"
   ]
  },
  {
   "cell_type": "code",
   "execution_count": 11,
   "id": "1c1338f3",
   "metadata": {},
   "outputs": [],
   "source": [
    "from transformers import TrainingArguments\n",
    "from peft import LoraConfig, TaskType\n",
    "\n",
    "model_dir = \"./evaluation/local-models/llama-2-7b-chat-hf\"\n",
    "\n",
    "peft_config = LoraConfig(\n",
    "    r=8,\n",
    "    task_type=\"CAUSAL_LM\",\n",
    ")"
   ]
  },
  {
   "cell_type": "code",
   "execution_count": null,
   "id": "57da44e8",
   "metadata": {},
   "outputs": [
    {
     "name": "stderr",
     "output_type": "stream",
     "text": [
      "You set `add_prefix_space`. The tokenizer needs to be converted from the slow tokenizers\n"
     ]
    },
    {
     "data": {
      "application/vnd.jupyter.widget-view+json": {
       "model_id": "b3d4d3e455dd4836adc5128a29b25810",
       "version_major": 2,
       "version_minor": 0
      },
      "text/plain": [
       "Map:   0%|          | 0/304000 [00:00<?, ? examples/s]"
      ]
     },
     "metadata": {},
     "output_type": "display_data"
    },
    {
     "name": "stderr",
     "output_type": "stream",
     "text": [
      "/workspace/anly5810/sandbox/.venv/lib/python3.10/site-packages/trl/trainer/sft_trainer.py:317: UserWarning: You passed a tokenizer with `padding_side` not equal to `right` to the SFTTrainer. This might lead to some unexpected behaviour due to overflow issues when training a model in half-precision. You might consider adding `tokenizer.padding_side = 'right'` to your code.\n",
      "  warnings.warn(\n",
      "/workspace/anly5810/sandbox/.venv/lib/python3.10/site-packages/accelerate/accelerator.py:432: FutureWarning: Passing the following arguments to `Accelerator` is deprecated and will be removed in version 1.0 of Accelerate: dict_keys(['dispatch_batches', 'split_batches', 'even_batches', 'use_seedable_sampler']). Please pass an `accelerate.DataLoaderConfiguration` instead: \n",
      "dataloader_config = DataLoaderConfiguration(dispatch_batches=None, split_batches=False, even_batches=True, use_seedable_sampler=True)\n",
      "  warnings.warn(\n"
     ]
    },
    {
     "data": {
      "text/html": [
       "\n",
       "    <div>\n",
       "      \n",
       "      <progress value='1538' max='114000' style='width:300px; height:20px; vertical-align: middle;'></progress>\n",
       "      [  1538/114000 06:45 < 8:15:17, 3.78 it/s, Epoch 0.04/3]\n",
       "    </div>\n",
       "    <table border=\"1\" class=\"dataframe\">\n",
       "  <thead>\n",
       " <tr style=\"text-align: left;\">\n",
       "      <th>Step</th>\n",
       "      <th>Training Loss</th>\n",
       "    </tr>\n",
       "  </thead>\n",
       "  <tbody>\n",
       "    <tr>\n",
       "      <td>500</td>\n",
       "      <td>1.582900</td>\n",
       "    </tr>\n",
       "    <tr>\n",
       "      <td>1000</td>\n",
       "      <td>1.266500</td>\n",
       "    </tr>\n",
       "    <tr>\n",
       "      <td>1500</td>\n",
       "      <td>1.235200</td>\n",
       "    </tr>\n",
       "  </tbody>\n",
       "</table><p>"
      ],
      "text/plain": [
       "<IPython.core.display.HTML object>"
      ]
     },
     "metadata": {},
     "output_type": "display_data"
    },
    {
     "name": "stderr",
     "output_type": "stream",
     "text": [
      "/workspace/anly5810/sandbox/.venv/lib/python3.10/site-packages/peft/utils/save_and_load.py:154: UserWarning: Could not find a config file in ./evaluation/local-models/llama-2-7b-chat-hf - will assume that the vocabulary was not modified.\n",
      "  warnings.warn(\n",
      "/workspace/anly5810/sandbox/.venv/lib/python3.10/site-packages/peft/utils/save_and_load.py:154: UserWarning: Could not find a config file in ./evaluation/local-models/llama-2-7b-chat-hf - will assume that the vocabulary was not modified.\n",
      "  warnings.warn(\n",
      "/workspace/anly5810/sandbox/.venv/lib/python3.10/site-packages/peft/utils/save_and_load.py:154: UserWarning: Could not find a config file in ./evaluation/local-models/llama-2-7b-chat-hf - will assume that the vocabulary was not modified.\n",
      "  warnings.warn(\n"
     ]
    }
   ],
   "source": [
    "from transformers import TrainingArguments\n",
    "from peft import LoraConfig\n",
    "\n",
    "args = TrainingArguments(\n",
    "    output_dir = \"evaluation/local-models/math-llama-sft\",\n",
    "    # Attempts to minimize dta size\n",
    "#     eval_accumulation_steps = 5,\n",
    "#     save_only_model = True,\n",
    "#     fp16 = True, \n",
    ")\n",
    "\n",
    "\n",
    "\n",
    "trainer = SFTTrainer(\n",
    "    model,\n",
    "    args=args,\n",
    "    train_dataset=data,\n",
    "    formatting_func=formatting_prompts_func,\n",
    "    max_seq_length = 50, # To account for padding\n",
    "    peft_config=peft_config\n",
    ")\n",
    "\n",
    "trainer.train()"
   ]
  }
 ],
 "metadata": {
  "kernelspec": {
   "display_name": "Python 3 (ipykernel)",
   "language": "python",
   "name": "python3"
  },
  "language_info": {
   "codemirror_mode": {
    "name": "ipython",
    "version": 3
   },
   "file_extension": ".py",
   "mimetype": "text/x-python",
   "name": "python",
   "nbconvert_exporter": "python",
   "pygments_lexer": "ipython3",
   "version": "3.10.12"
  }
 },
 "nbformat": 4,
 "nbformat_minor": 5
}
