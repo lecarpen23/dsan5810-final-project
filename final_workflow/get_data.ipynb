{
 "cells": [
  {
   "cell_type": "code",
   "execution_count": 3,
   "id": "da52b1a5",
   "metadata": {},
   "outputs": [],
   "source": [
    "import os\n",
    "import requests\n",
    "import tarfile"
   ]
  },
  {
   "cell_type": "code",
   "execution_count": 7,
   "id": "ef96d7bf",
   "metadata": {},
   "outputs": [],
   "source": [
    "def download_csvs(github_urls, destination_folder):\n",
    "    for url in file_urls:\n",
    "        try:\n",
    "            filename = url.split('/')[-1]\n",
    "            file_path = os.path.join(destination_folder, filename)\n",
    "            response = requests.get(url)\n",
    "            if response.status_code == 200:\n",
    "                with open(file_path, 'wb') as file:\n",
    "                    file.write(response.content)\n",
    "                print(f'Successfully downloaded {filename}')\n",
    "            else:\n",
    "                print(f'Failed to download {filename}: HTTP {response.status_code}')\n",
    "        except Exception as e:\n",
    "            print(f'An error occurred while processing {url}: {e}')"
   ]
  },
  {
   "cell_type": "code",
   "execution_count": null,
   "id": "536b86da",
   "metadata": {},
   "outputs": [],
   "source": [
    "def extract_tar_files(tar_path, destination_folder):\n",
    "    if tar_path.endswith('.tar'):\n",
    "        try:\n",
    "            with tarfile.open(tar_path) as tar:\n",
    "                tar.extractall(path=destination_folder)\n",
    "            print(f'Successfully extracted {tar_path}')\n",
    "        except Exception as e:\n",
    "            print(f'An error occurred while extracting {tar_path}: {e}')"
   ]
  },
  {
   "cell_type": "code",
   "execution_count": 9,
   "id": "c2016027",
   "metadata": {},
   "outputs": [
    {
     "name": "stdout",
     "output_type": "stream",
     "text": [
      "/workspace/anly5810/data/TruthfulQA.csv\n",
      "Successfully downloaded TruthfulQA.csv\n",
      "/workspace/anly5810/data/data.tar\n",
      "Successfully downloaded data.tar\n"
     ]
    }
   ],
   "source": [
    "github_urls = [\n",
    "    'https://raw.githubusercontent.com/sylinrl/TruthfulQA/main/TruthfulQA.csv',\n",
    "    'https://people.eecs.berkeley.edu/~hendrycks/data.tar'\n",
    "]\n",
    "destination_folder = '/workspace/anly5810/final_workflow/data'\n",
    "download_csvs(github_urls, destination_folder)"
   ]
  },
  {
   "cell_type": "code",
   "execution_count": null,
   "id": "254396e6",
   "metadata": {},
   "outputs": [],
   "source": []
  }
 ],
 "metadata": {
  "kernelspec": {
   "display_name": "Python 3 (ipykernel)",
   "language": "python",
   "name": "python3"
  },
  "language_info": {
   "codemirror_mode": {
    "name": "ipython",
    "version": 3
   },
   "file_extension": ".py",
   "mimetype": "text/x-python",
   "name": "python",
   "nbconvert_exporter": "python",
   "pygments_lexer": "ipython3",
   "version": "3.10.12"
  }
 },
 "nbformat": 4,
 "nbformat_minor": 5
}
