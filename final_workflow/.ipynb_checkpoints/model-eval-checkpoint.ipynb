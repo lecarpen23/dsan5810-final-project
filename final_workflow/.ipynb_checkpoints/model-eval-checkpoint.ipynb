{
 "cells": [
  {
   "cell_type": "markdown",
   "id": "135ad4dd",
   "metadata": {},
   "source": [
    "This file seeks to use [SFTTrainer](https://huggingface.co/docs/trl/en/sft_trainer) from huggingface to train on custom data to make the process easier than configuring the dataset for llama-recipes which seems much more difficult."
   ]
  },
  {
   "cell_type": "code",
   "execution_count": null,
   "id": "6a0c84f2",
   "metadata": {},
   "outputs": [],
   "source": [
    "from datasets import load_dataset\n",
    "from trl import SFTTrainer\n",
    "from transformers import LlamaForCausalLM, LlamaTokenizer, BitsAndBytesConfig, AutoModelForCausalLM\n",
    "import torch\n",
    "import transformers\n",
    "import torch.nn.functional as F"
   ]
  },
  {
   "cell_type": "markdown",
   "id": "2a1f8fee",
   "metadata": {},
   "source": [
    "## Load in the Model"
   ]
  },
  {
   "cell_type": "code",
   "execution_count": 4,
   "id": "5f8c6f76",
   "metadata": {},
   "outputs": [
    {
     "name": "stderr",
     "output_type": "stream",
     "text": [
      "`low_cpu_mem_usage` was None, now set to True since model is quantized.\n"
     ]
    },
    {
     "data": {
      "application/vnd.jupyter.widget-view+json": {
       "model_id": "227790c990f9489db13442577dc79d79",
       "version_major": 2,
       "version_minor": 0
      },
      "text/plain": [
       "Loading checkpoint shards:   0%|          | 0/3 [00:00<?, ?it/s]"
      ]
     },
     "metadata": {},
     "output_type": "display_data"
    },
    {
     "name": "stderr",
     "output_type": "stream",
     "text": [
      "/usr/local/lib/python3.10/dist-packages/torch/_utils.py:836: UserWarning: TypedStorage is deprecated. It will be removed in the future and UntypedStorage will be the only storage class. This should only matter to you if you are using storages directly.  To access UntypedStorage directly, use tensor.untyped_storage() instead of tensor.storage()\n",
      "  return self.fget.__get__(instance, owner)()\n"
     ]
    },
    {
     "name": "stdout",
     "output_type": "stream",
     "text": [
      "Device is: cuda\n"
     ]
    }
   ],
   "source": [
    "# Load Model\n",
    "model_dir = \"./models/llama\"\n",
    "\n",
    "model = AutoModelForCausalLM.from_pretrained(\n",
    "    model_dir,\n",
    "    # QUANTIZE MODEL, NECESSARY STEP\n",
    "    quantization_config=BitsAndBytesConfig(\n",
    "                load_in_4bit=True,\n",
    "                bnb_4bit_compute_dtype=torch.bfloat16,\n",
    "                bnb_4bit_use_double_quant=True,\n",
    "                bnb_4bit_quant_type='nf4'\n",
    "            ))\n",
    "\n",
    "# Load Tokenizer\n",
    "tokenizer = LlamaTokenizer.from_pretrained(model_dir)\n",
    "\n",
    "# Specify device\n",
    "### NEEDED OR IT WILL BE INCREDIBLY SLOW\n",
    "device = torch.device(\"cuda\" if torch.cuda.is_available() else \"cpu\")\n",
    "print(\"Device is:\", device)\n",
    "\n",
    "# Create Pipeline\n",
    "pipeline = transformers.pipeline(\n",
    "    \"text-generation\",\n",
    "\n",
    "    model=model,\n",
    "\n",
    "    tokenizer=tokenizer,\n",
    "\n",
    "    torch_dtype=torch.float16,\n",
    ")"
   ]
  },
  {
   "cell_type": "markdown",
   "id": "4116dde9",
   "metadata": {},
   "source": [
    "## Evaluating on the MMLU Dataset"
   ]
  },
  {
   "cell_type": "markdown",
   "id": "bf96a118",
   "metadata": {},
   "source": [
    "### Prepare the Questions and Answers"
   ]
  },
  {
   "cell_type": "code",
   "execution_count": 4,
   "id": "4538ad37",
   "metadata": {},
   "outputs": [],
   "source": [
    "import pandas as pd\n",
    "df = pd.read_csv('./data/test/mmlu/high_school_mathematics_test.csv')\n",
    "\n",
    "# column names are a question, so add it to the end\n",
    "df.loc[len(df)] = df.columns\n",
    "\n",
    "# rename columns appropriately\n",
    "df.columns = ['question', 'a', 'b', 'c', 'd', 'answer']"
   ]
  },
  {
   "cell_type": "code",
   "execution_count": 5,
   "id": "8b989d9d",
   "metadata": {},
   "outputs": [
    {
     "data": {
      "text/html": [
       "<div>\n",
       "<style scoped>\n",
       "    .dataframe tbody tr th:only-of-type {\n",
       "        vertical-align: middle;\n",
       "    }\n",
       "\n",
       "    .dataframe tbody tr th {\n",
       "        vertical-align: top;\n",
       "    }\n",
       "\n",
       "    .dataframe thead th {\n",
       "        text-align: right;\n",
       "    }\n",
       "</style>\n",
       "<table border=\"1\" class=\"dataframe\">\n",
       "  <thead>\n",
       "    <tr style=\"text-align: right;\">\n",
       "      <th></th>\n",
       "      <th>question</th>\n",
       "      <th>a</th>\n",
       "      <th>b</th>\n",
       "      <th>c</th>\n",
       "      <th>d</th>\n",
       "      <th>answer</th>\n",
       "    </tr>\n",
       "  </thead>\n",
       "  <tbody>\n",
       "    <tr>\n",
       "      <th>0</th>\n",
       "      <td>The length of a rectangle is twice its width. ...</td>\n",
       "      <td>2500</td>\n",
       "      <td>2</td>\n",
       "      <td>50</td>\n",
       "      <td>25</td>\n",
       "      <td>C</td>\n",
       "    </tr>\n",
       "    <tr>\n",
       "      <th>1</th>\n",
       "      <td>A positive integer n is called “powerful” if, ...</td>\n",
       "      <td>392</td>\n",
       "      <td>336</td>\n",
       "      <td>300</td>\n",
       "      <td>297</td>\n",
       "      <td>A</td>\n",
       "    </tr>\n",
       "    <tr>\n",
       "      <th>2</th>\n",
       "      <td>At breakfast, lunch, and dinner, Joe randomly ...</td>\n",
       "      <td>\\frac{7}{9}</td>\n",
       "      <td>\\frac{8}{9}</td>\n",
       "      <td>\\frac{5}{9}</td>\n",
       "      <td>\\frac{9}{11}</td>\n",
       "      <td>B</td>\n",
       "    </tr>\n",
       "    <tr>\n",
       "      <th>3</th>\n",
       "      <td>Suppose $f(x)$ is a function that has this pro...</td>\n",
       "      <td>(-inf, 10)</td>\n",
       "      <td>(-inf, 9)</td>\n",
       "      <td>(-inf, 8)</td>\n",
       "      <td>(-inf, 7)</td>\n",
       "      <td>C</td>\n",
       "    </tr>\n",
       "    <tr>\n",
       "      <th>4</th>\n",
       "      <td>John divided his souvenir hat pins into two pi...</td>\n",
       "      <td>396</td>\n",
       "      <td>72</td>\n",
       "      <td>66</td>\n",
       "      <td>36</td>\n",
       "      <td>B</td>\n",
       "    </tr>\n",
       "  </tbody>\n",
       "</table>\n",
       "</div>"
      ],
      "text/plain": [
       "                                            question            a  \\\n",
       "0  The length of a rectangle is twice its width. ...         2500   \n",
       "1  A positive integer n is called “powerful” if, ...          392   \n",
       "2  At breakfast, lunch, and dinner, Joe randomly ...  \\frac{7}{9}   \n",
       "3  Suppose $f(x)$ is a function that has this pro...   (-inf, 10)   \n",
       "4  John divided his souvenir hat pins into two pi...          396   \n",
       "\n",
       "             b            c             d answer  \n",
       "0            2           50            25      C  \n",
       "1          336          300           297      A  \n",
       "2  \\frac{8}{9}  \\frac{5}{9}  \\frac{9}{11}      B  \n",
       "3    (-inf, 9)    (-inf, 8)     (-inf, 7)      C  \n",
       "4           72           66            36      B  "
      ]
     },
     "execution_count": 5,
     "metadata": {},
     "output_type": "execute_result"
    }
   ],
   "source": [
    "df.head()"
   ]
  },
  {
   "cell_type": "code",
   "execution_count": 6,
   "id": "cd57aa3f",
   "metadata": {},
   "outputs": [
    {
     "data": {
      "text/plain": [
       "'The length of a rectangle is twice its width. Given the length of the diagonal is $5\\\\sqrt{5}$, find the area of the rectangle.'"
      ]
     },
     "execution_count": 6,
     "metadata": {},
     "output_type": "execute_result"
    }
   ],
   "source": [
    "# first question in dataset\n",
    "df['question'][0]"
   ]
  },
  {
   "cell_type": "code",
   "execution_count": 7,
   "id": "138a8d19",
   "metadata": {},
   "outputs": [],
   "source": [
    "def format_prompt(x):\n",
    "    return f\"answer with one number from the question: {x['question']} 1: {x['a']} 2: {x['b']} 3: {x['c']} 4: {x['d']}\"\n",
    "\n",
    "df['question-new'] = df.apply(format_prompt, axis = 1)"
   ]
  },
  {
   "cell_type": "code",
   "execution_count": 8,
   "id": "b9fe9d53",
   "metadata": {},
   "outputs": [
    {
     "data": {
      "text/html": [
       "<div>\n",
       "<style scoped>\n",
       "    .dataframe tbody tr th:only-of-type {\n",
       "        vertical-align: middle;\n",
       "    }\n",
       "\n",
       "    .dataframe tbody tr th {\n",
       "        vertical-align: top;\n",
       "    }\n",
       "\n",
       "    .dataframe thead th {\n",
       "        text-align: right;\n",
       "    }\n",
       "</style>\n",
       "<table border=\"1\" class=\"dataframe\">\n",
       "  <thead>\n",
       "    <tr style=\"text-align: right;\">\n",
       "      <th></th>\n",
       "      <th>question</th>\n",
       "      <th>a</th>\n",
       "      <th>b</th>\n",
       "      <th>c</th>\n",
       "      <th>d</th>\n",
       "      <th>answer</th>\n",
       "      <th>question-new</th>\n",
       "    </tr>\n",
       "  </thead>\n",
       "  <tbody>\n",
       "    <tr>\n",
       "      <th>0</th>\n",
       "      <td>The length of a rectangle is twice its width. ...</td>\n",
       "      <td>2500</td>\n",
       "      <td>2</td>\n",
       "      <td>50</td>\n",
       "      <td>25</td>\n",
       "      <td>C</td>\n",
       "      <td>answer with one number from the question: The ...</td>\n",
       "    </tr>\n",
       "    <tr>\n",
       "      <th>1</th>\n",
       "      <td>A positive integer n is called “powerful” if, ...</td>\n",
       "      <td>392</td>\n",
       "      <td>336</td>\n",
       "      <td>300</td>\n",
       "      <td>297</td>\n",
       "      <td>A</td>\n",
       "      <td>answer with one number from the question: A po...</td>\n",
       "    </tr>\n",
       "    <tr>\n",
       "      <th>2</th>\n",
       "      <td>At breakfast, lunch, and dinner, Joe randomly ...</td>\n",
       "      <td>\\frac{7}{9}</td>\n",
       "      <td>\\frac{8}{9}</td>\n",
       "      <td>\\frac{5}{9}</td>\n",
       "      <td>\\frac{9}{11}</td>\n",
       "      <td>B</td>\n",
       "      <td>answer with one number from the question: At b...</td>\n",
       "    </tr>\n",
       "    <tr>\n",
       "      <th>3</th>\n",
       "      <td>Suppose $f(x)$ is a function that has this pro...</td>\n",
       "      <td>(-inf, 10)</td>\n",
       "      <td>(-inf, 9)</td>\n",
       "      <td>(-inf, 8)</td>\n",
       "      <td>(-inf, 7)</td>\n",
       "      <td>C</td>\n",
       "      <td>answer with one number from the question: Supp...</td>\n",
       "    </tr>\n",
       "    <tr>\n",
       "      <th>4</th>\n",
       "      <td>John divided his souvenir hat pins into two pi...</td>\n",
       "      <td>396</td>\n",
       "      <td>72</td>\n",
       "      <td>66</td>\n",
       "      <td>36</td>\n",
       "      <td>B</td>\n",
       "      <td>answer with one number from the question: John...</td>\n",
       "    </tr>\n",
       "  </tbody>\n",
       "</table>\n",
       "</div>"
      ],
      "text/plain": [
       "                                            question            a  \\\n",
       "0  The length of a rectangle is twice its width. ...         2500   \n",
       "1  A positive integer n is called “powerful” if, ...          392   \n",
       "2  At breakfast, lunch, and dinner, Joe randomly ...  \\frac{7}{9}   \n",
       "3  Suppose $f(x)$ is a function that has this pro...   (-inf, 10)   \n",
       "4  John divided his souvenir hat pins into two pi...          396   \n",
       "\n",
       "             b            c             d answer  \\\n",
       "0            2           50            25      C   \n",
       "1          336          300           297      A   \n",
       "2  \\frac{8}{9}  \\frac{5}{9}  \\frac{9}{11}      B   \n",
       "3    (-inf, 9)    (-inf, 8)     (-inf, 7)      C   \n",
       "4           72           66            36      B   \n",
       "\n",
       "                                        question-new  \n",
       "0  answer with one number from the question: The ...  \n",
       "1  answer with one number from the question: A po...  \n",
       "2  answer with one number from the question: At b...  \n",
       "3  answer with one number from the question: Supp...  \n",
       "4  answer with one number from the question: John...  "
      ]
     },
     "execution_count": 8,
     "metadata": {},
     "output_type": "execute_result"
    }
   ],
   "source": [
    "df.head()"
   ]
  },
  {
   "cell_type": "markdown",
   "id": "f6d4a84a",
   "metadata": {},
   "source": [
    "### Save to JSON"
   ]
  },
  {
   "cell_type": "code",
   "execution_count": 13,
   "id": "41aa9d2d",
   "metadata": {},
   "outputs": [],
   "source": [
    "# Create output json\n",
    "import json\n",
    "json_output = []\n",
    "\n",
    "# iterate over data frame questions\n",
    "for question, answer in zip(df['question-new'], df['answer']):\n",
    "    json_output.append({'input': question, 'answer': str(answer)})\n",
    "    \n",
    "# Write output json\n",
    "output_path = './data/test/test_mmlu.json'\n",
    "\n",
    "with open(output_path, \"w\") as f:\n",
    "    json.dump(json_output, f, indent=4)"
   ]
  },
  {
   "cell_type": "markdown",
   "id": "de2a421d",
   "metadata": {},
   "source": [
    "### Evaluate the Model"
   ]
  },
  {
   "cell_type": "code",
   "execution_count": 49,
   "id": "ddcdc727",
   "metadata": {},
   "outputs": [],
   "source": [
    "prompts = [q for q in df['question-new']]\n",
    "answers = [a for a in df['answer']]"
   ]
  },
  {
   "cell_type": "code",
   "execution_count": 50,
   "id": "3d3abe20",
   "metadata": {},
   "outputs": [
    {
     "name": "stdout",
     "output_type": "stream",
     "text": [
      "Prompt 0: answer with one number from the question: Let p = (1, 2, 5, 4)(2, 3) in S_5 . Find the index of <p> in S_5. 1: 8 2: 2 3: 24 4: 120\n",
      "Answer 0: C\n"
     ]
    }
   ],
   "source": [
    "print(f'Prompt 0: {prompts[0]}\\nAnswer 0: {answers[0]}')"
   ]
  },
  {
   "cell_type": "code",
   "execution_count": 51,
   "id": "eef3154b",
   "metadata": {},
   "outputs": [
    {
     "name": "stderr",
     "output_type": "stream",
     "text": [
      "Setting `pad_token_id` to `eos_token_id`:2 for open-end generation.\n",
      "Setting `pad_token_id` to `eos_token_id`:2 for open-end generation.\n"
     ]
    },
    {
     "name": "stdout",
     "output_type": "stream",
     "text": [
      "===== Iteration 0 =====\n",
      "\n",
      "Question:\n",
      "answer with one number from the question: Let p = (1, 2, 5, 4)(2, 3) in S_5 . Find the index of <p> in S_5. 1: 8 2: 2 3: 24 4: 120\n",
      "\n",
      "Preparing Sequences ...\n",
      "\n",
      "Generated Answer 0:\n",
      "answer with one number from the question: Let p = (1, 2, 5, 4)(2, 3) in S_5 . Find the index of <p> in S_5. 1: 8 2: 2 3: 24 4: 120 5: 60\n",
      "The given permutation p = (1, 2, 5, 4)(2, 3) in S_5 can be written as π = (1, 2, 4)(3, 5).\n",
      "To find the index of π in S_5, we need to check which class π belongs to in the coset π + S_5.\n",
      "π + S_5 = {π + (1, 2, 5, 4)(2, 3)} = {(1, 2, 4)(3, 5), (1, 2, 5, 4)(2, 3), (1, 5, 4)(2, 3), (5, 4)(2, 3), (2, 3, 4)(1, 5), (2, 3, 5, 4)(1, 2)} = 5\n",
      "So, the index of π in S_5 is 5.\n",
      "Therefore, the answer is (5).\n",
      "\n",
      "Real Answer: C\n",
      "\n",
      "\n"
     ]
    },
    {
     "name": "stderr",
     "output_type": "stream",
     "text": [
      "Setting `pad_token_id` to `eos_token_id`:2 for open-end generation.\n"
     ]
    },
    {
     "name": "stdout",
     "output_type": "stream",
     "text": [
      "===== Iteration 1 =====\n",
      "\n",
      "Question:\n",
      "answer with one number from the question: Find all zeros in the indicated finite field of the given polynomial with coefficients in that field. x^5 + 3x^3 + x^2 + 2x in Z_5 1: 0 2: 1 3: 0,1 4: 0,4\n",
      "\n",
      "Preparing Sequences ...\n",
      "\n",
      "Generated Answer 0:\n",
      "answer with one number from the question: Find all zeros in the indicated finite field of the given polynomial with coefficients in that field. x^5 + 3x^3 + x^2 + 2x in Z_5 1: 0 2: 1 3: 0,1 4: 0,4 5: 2,0\n",
      "\n",
      "The solution is:\n",
      "\n",
      "1: x = 0\n",
      "\n",
      "2: x = 1\n",
      "\n",
      "3: x = 2\n",
      "\n",
      "4: x = 3\n",
      "\n",
      "5: x = 4\n",
      "\n",
      "Note that the polynomial has no real zeros, only ones in the field.\n",
      "\n",
      "Real Answer: D\n",
      "\n",
      "\n"
     ]
    },
    {
     "name": "stderr",
     "output_type": "stream",
     "text": [
      "Setting `pad_token_id` to `eos_token_id`:2 for open-end generation.\n"
     ]
    },
    {
     "name": "stdout",
     "output_type": "stream",
     "text": [
      "===== Iteration 2 =====\n",
      "\n",
      "Question:\n",
      "answer with one number from the question: Statement 1 | A factor group of a non-Abelian group is non-Abelian. Statement 2 | If K is a normal subgroup of H and H is a normal subgroup of G, then K is a normal subgroup of G. 1: True, True 2: False, False 3: True, False 4: False, True\n",
      "\n",
      "Preparing Sequences ...\n",
      "\n",
      "Generated Answer 0:\n",
      "answer with one number from the question: Statement 1 | A factor group of a non-Abelian group is non-Abelian. Statement 2 | If K is a normal subgroup of H and H is a normal subgroup of G, then K is a normal subgroup of G. 1: True, True 2: False, False 3: True, False 4: False, True 5: True, True\n",
      "A factor group of a non-Abelian group is non-Abelian. If K is a normal subgr...\n",
      "Let G be a group and let K be a subgrou...\n",
      "Let G be a group and let K be a subgroup of G. Prove or disprove the following statements:\n",
      "1. Statement 1 | A factor group of a non-Abelian group is non-Abelian.\n",
      "2. Statement 2 | If K is a normal subgroup of H and H is a normal subgroup of G, then K is a normal subgroup of G.\n",
      "3. Statement 3 | If G is a group and K is a subgroup of G, then K is a proper subgroup of G.\n",
      "4. Statement 4 | If G is a group and K is a normal subgroup of G, then G/K is a cyclic group.\n",
      "5. Statement 5 | If G is a group and K is a subgroup of G, then G/K is a non-trivial group.\n",
      "Prove or disprove each statement using the definitions of the concepts and the properties of groups.\n",
      "\n",
      "Real Answer: B\n",
      "\n",
      "\n"
     ]
    },
    {
     "name": "stderr",
     "output_type": "stream",
     "text": [
      "Setting `pad_token_id` to `eos_token_id`:2 for open-end generation.\n"
     ]
    },
    {
     "name": "stdout",
     "output_type": "stream",
     "text": [
      "===== Iteration 3 =====\n",
      "\n",
      "Question:\n",
      "answer with one number from the question: Find the product of the given polynomials in the given polynomial ring. f(x) = 4x - 5, g(x) = 2x^2 - 4x + 2 in Z_8[x]. 1: 2x^2 + 5 2: 6x^2 + 4x + 6 3: 0 4: x^2 + 1\n",
      "\n",
      "Preparing Sequences ...\n",
      "\n",
      "Generated Answer 0:\n",
      "answer with one number from the question: Find the product of the given polynomials in the given polynomial ring. f(x) = 4x - 5, g(x) = 2x^2 - 4x + 2 in Z_8[x]. 1: 2x^2 + 5 2: 6x^2 + 4x + 6 3: 0 4: x^2 + 10x + 10 5: 2x - 3x^2 + 11x + 12 6: 3x^2 + 10x + 9 7: -3x^2 - 12x + 15 8: 4x^2 - 13x + 7 9: -6x^2 - 2x + 8 10: -2x + 5x^2 + 10x - 11 Thank you for your answer!\n",
      "\n",
      "Real Answer: B\n",
      "\n",
      "\n",
      "===== Iteration 4 =====\n",
      "\n",
      "Question:\n",
      "answer with one number from the question: Statement 1 | If a group has an element of order 15 it must have at least 8 elements of order 15. Statement 2 | If a group has more than 8 elements of order 15, it must have at least 16 elements of order 15. 1: True, True 2: False, False 3: True, False 4: False, True\n",
      "\n",
      "Preparing Sequences ...\n",
      "\n",
      "Generated Answer 0:\n",
      "answer with one number from the question: Statement 1 | If a group has an element of order 15 it must have at least 8 elements of order 15. Statement 2 | If a group has more than 8 elements of order 15, it must have at least 16 elements of order 15. 1: True, True 2: False, False 3: True, False 4: False, True (The group G has an element of order 15, so it must have at least 8 elements of order 15. But the statement 2 does not hold, since the group does not have more than 8 elements of order 15)\n",
      "\n",
      "Real Answer: A\n",
      "\n",
      "\n"
     ]
    }
   ],
   "source": [
    "i = 0\n",
    "for prompt, answer in zip(prompts[:5], answers[:5]):\n",
    "    sequences = pipeline(\n",
    "        prompt,\n",
    "        do_sample = True,\n",
    "        top_k = 10,\n",
    "        num_return_sequences = 1,\n",
    "        eos_token_id = tokenizer.eos_token_id,\n",
    "        max_length = 500,\n",
    "        truncation = True\n",
    "    )\n",
    "    print(f'===== Iteration {i} =====\\n')\n",
    "    print(f'Question:\\n{prompt}\\n')\n",
    "    print(f'Preparing Sequences ...\\n')\n",
    "    for s, seq in enumerate(sequences):\n",
    "        print(f'Generated Answer {s}:')\n",
    "        print(f\"{seq['generated_text']}\")\n",
    "        \n",
    "    print(f'\\nReal Answer: {answer}\\n\\n')\n",
    "    i += 1\n",
    "    "
   ]
  },
  {
   "cell_type": "code",
   "execution_count": null,
   "id": "2491654c",
   "metadata": {},
   "outputs": [],
   "source": []
  },
  {
   "cell_type": "code",
   "execution_count": null,
   "id": "c2775e58",
   "metadata": {},
   "outputs": [],
   "source": []
  }
 ],
 "metadata": {
  "kernelspec": {
   "display_name": "Python 3 (ipykernel)",
   "language": "python",
   "name": "python3"
  },
  "language_info": {
   "codemirror_mode": {
    "name": "ipython",
    "version": 3
   },
   "file_extension": ".py",
   "mimetype": "text/x-python",
   "name": "python",
   "nbconvert_exporter": "python",
   "pygments_lexer": "ipython3",
   "version": "3.10.12"
  }
 },
 "nbformat": 4,
 "nbformat_minor": 5
}
