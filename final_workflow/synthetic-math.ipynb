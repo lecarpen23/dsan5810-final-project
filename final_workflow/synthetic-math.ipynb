{
 "cells": [
  {
   "cell_type": "markdown",
   "id": "9ee5af9f",
   "metadata": {},
   "source": [
    "Inspired by https://github.com/liutiedong/goat/blob/main/dataset.ipynb"
   ]
  },
  {
   "cell_type": "code",
   "execution_count": 1,
   "id": "0a57123a",
   "metadata": {},
   "outputs": [],
   "source": [
    "import numpy as np\n",
    "import pandas as pd\n",
    "import matplotlib.pyplot as plt\n",
    "from tqdm import tqdm\n",
    "import json\n",
    "import os\n",
    "import random\n",
    "from typing import Union"
   ]
  },
  {
   "cell_type": "markdown",
   "id": "43ad6992",
   "metadata": {},
   "source": [
    "# Set up prompting"
   ]
  },
  {
   "cell_type": "code",
   "execution_count": 7,
   "id": "76ed13ea",
   "metadata": {},
   "outputs": [],
   "source": [
    "# Prompt that goes ahead of each question\n",
    "prompt = \"What is \""
   ]
  },
  {
   "cell_type": "markdown",
   "id": "5d307ae4",
   "metadata": {},
   "source": [
    "# Addition"
   ]
  },
  {
   "cell_type": "code",
   "execution_count": 8,
   "id": "28d4320d",
   "metadata": {},
   "outputs": [
    {
     "name": "stdout",
     "output_type": "stream",
     "text": [
      "FIRST 5: [(8, 8), (10, 8), (7, 3), (7, 2), (9, 9)]\n",
      "MIN: (1, 1)\n",
      "MAX: (999966048596408, 402391066750083)\n",
      "Total: 304000\n"
     ]
    }
   ],
   "source": [
    "# Create addition examples\n",
    "\n",
    "# Creates\n",
    "pairs = \\\n",
    "[(random.randint(10**(i-1), 10**i), random.randint(10**(j-1), 10**j)) for i in range(1,16) for j in range(i,16) for k in range(1000)] +\\\n",
    "[(random.randint(10**(i-1), 10**i), random.randint(10**(j-1), 10**j)) for i in range(3,16) for j in range(i,16) for k in range(1000)] +\\\n",
    "[(random.randint(10**(i-1), 10**i), random.randint(10**(j-1), 10**j)) for i in range(6,16) for j in range(i,16) for k in range(1000)] +\\\n",
    "[(random.randint(10**(i-1), 10**i), random.randint(10**(j-1), 10**j)) for i in range(9,16) for j in range(i,16) for k in range(1000)] +\\\n",
    "[(random.randint(10**(i-1), 10**i), random.randint(10**(j-1), 10**j)) for i in range(12,16) for j in range(i,16) for k in range(1000)] \n",
    "\n",
    "print('FIRST 5:',pairs[:5])\n",
    "print('MIN:', min(pairs))\n",
    "print('MAX:', max(pairs))\n",
    "print('Total:', len(pairs))"
   ]
  },
  {
   "cell_type": "code",
   "execution_count": 9,
   "id": "7f1356f5",
   "metadata": {},
   "outputs": [
    {
     "name": "stdout",
     "output_type": "stream",
     "text": [
      "Shuffled First 5: [(3231165, 4533275279), (53, 781681064), (2545499, 272615628), (1077359346, 78753630566), (892699, 11129023)]\n"
     ]
    }
   ],
   "source": [
    "# Shuffle data\n",
    "random.shuffle(pairs)\n",
    "\n",
    "print(\"Shuffled First 5:\", pairs[:5])"
   ]
  },
  {
   "cell_type": "markdown",
   "id": "fde3e6a1",
   "metadata": {},
   "source": [
    "Data successfully shuffled."
   ]
  },
  {
   "cell_type": "markdown",
   "id": "d84beec9",
   "metadata": {},
   "source": [
    "## Create json"
   ]
  },
  {
   "cell_type": "code",
   "execution_count": 11,
   "id": "3ca49d0c",
   "metadata": {},
   "outputs": [
    {
     "name": "stdout",
     "output_type": "stream",
     "text": [
      "{'input': 'What is 3231165 + 4533275279', 'output': '4536506444', 'answer': '4536506444'}\n",
      "{'input': 'What is 5488131067032 + 34334519', 'output': '5488165401551', 'answer': '5488165401551'}\n"
     ]
    }
   ],
   "source": [
    "# Create output json\n",
    "addition_output = []\n",
    "\n",
    "# Do addition\n",
    "for num1, num2 in pairs:\n",
    "    \n",
    "    # Randomly swap numbers\n",
    "    if random.random()<0.5:\n",
    "        num1, num2 = num2, num1 \n",
    "\n",
    "    # Create Question and output\n",
    "    answer = num1 + num2\n",
    "    question = f\"{prompt}{num1} + {num2}\" \n",
    "    output = f\"{answer}\"\n",
    "    \n",
    "    addition_output.append({'input': question, 'output': output, 'answer': str(answer)})\n",
    "    \n",
    "# View examples\n",
    "print(addition_output[0])\n",
    "print(addition_output[-1])"
   ]
  },
  {
   "cell_type": "markdown",
   "id": "30a543a5",
   "metadata": {},
   "source": [
    "# Subtraction"
   ]
  },
  {
   "cell_type": "code",
   "execution_count": 13,
   "id": "47f6039f",
   "metadata": {},
   "outputs": [
    {
     "name": "stderr",
     "output_type": "stream",
     "text": [
      "100%|██████████| 304000/304000 [00:00<00:00, 594128.10it/s]"
     ]
    },
    {
     "name": "stdout",
     "output_type": "stream",
     "text": [
      "{'input': 'What is 3231165 - 4533275279', 'output': '3231165 - 4533275279 = -4530044114', 'answer': '-4530044114'}\n",
      "{'input': 'What is 5488131067032 - 34334519', 'output': '5488131067032 - 34334519 = 5488096732513', 'answer': '5488096732513'}\n"
     ]
    },
    {
     "name": "stderr",
     "output_type": "stream",
     "text": [
      "\n"
     ]
    }
   ],
   "source": [
    "# Create output json\n",
    "subtraction_output = []\n",
    "\n",
    "# Do addition\n",
    "for num1, num2 in tqdm(pairs):\n",
    "    \n",
    "    # Randomly swap numbers\n",
    "    if random.random()<0.5:\n",
    "        num1, num2 = num2, num1 \n",
    "\n",
    "    # Create Question and output\n",
    "    answer = num1 - num2\n",
    "    question = f\"{prompt}{num1} - {num2}\" \n",
    "    output = f\"{num1} - {num2} = {answer}\"\n",
    "    \n",
    "    subtraction_output.append({'input': question, 'output': output, 'answer': str(answer)})\n",
    "    \n",
    "# View examples\n",
    "print(subtraction_output[0])\n",
    "print(subtraction_output[-1])"
   ]
  },
  {
   "cell_type": "markdown",
   "id": "5ec94cec",
   "metadata": {},
   "source": [
    "# Multiplication"
   ]
  },
  {
   "cell_type": "code",
   "execution_count": 14,
   "id": "f47a22ba",
   "metadata": {},
   "outputs": [
    {
     "name": "stderr",
     "output_type": "stream",
     "text": [
      "100%|██████████| 304000/304000 [00:00<00:00, 569195.21it/s]"
     ]
    },
    {
     "name": "stdout",
     "output_type": "stream",
     "text": [
      "{'input': 'What is 3231165 * 4533275279', 'output': '3231165 * 4533275279 = 14647760416870035', 'answer': '14647760416870035'}\n",
      "{'input': 'What is 5488131067032 * 34334519', 'output': '5488131067032 * 34334519 = 188432340395500477608', 'answer': '188432340395500477608'}\n"
     ]
    },
    {
     "name": "stderr",
     "output_type": "stream",
     "text": [
      "\n"
     ]
    }
   ],
   "source": [
    "# Create output json\n",
    "multiplication_output = []\n",
    "\n",
    "# Do addition\n",
    "for num1, num2 in tqdm(pairs):\n",
    "    \n",
    "    # Randomly swap numbers\n",
    "    if random.random()<0.5:\n",
    "        num1, num2 = num2, num1 \n",
    "\n",
    "    # Create Question and output\n",
    "    answer = num1 * num2\n",
    "    question = f\"{prompt}{num1} * {num2}\" \n",
    "    output = f\"{num1} * {num2} = {answer}\"\n",
    "    \n",
    "    multiplication_output.append({'input': question, 'output': output, 'answer': str(answer)})\n",
    "    \n",
    "# View examples\n",
    "print(multiplication_output[0])\n",
    "print(multiplication_output[-1])"
   ]
  },
  {
   "cell_type": "markdown",
   "id": "3ea24bcc",
   "metadata": {},
   "source": [
    "# Division"
   ]
  },
  {
   "cell_type": "code",
   "execution_count": 15,
   "id": "2696a7e1",
   "metadata": {},
   "outputs": [
    {
     "name": "stderr",
     "output_type": "stream",
     "text": [
      "100%|██████████| 304000/304000 [00:00<00:00, 339723.36it/s]"
     ]
    },
    {
     "name": "stdout",
     "output_type": "stream",
     "text": [
      "{'input': 'What is 3231165 / 4533275279', 'output': '3231165 / 4533275279 = 0.0007127661130503344', 'answer': '0.0007127661130503344'}\n",
      "{'input': 'What is 5488131067032 / 34334519', 'output': '5488131067032 / 34334519 = 159842.95766694736', 'answer': '159842.95766694736'}\n"
     ]
    },
    {
     "name": "stderr",
     "output_type": "stream",
     "text": [
      "\n"
     ]
    }
   ],
   "source": [
    "# Create output json\n",
    "division_output = []\n",
    "\n",
    "# Do addition\n",
    "for num1, num2 in tqdm(pairs):\n",
    "    \n",
    "    # Randomly swap numbers\n",
    "    if random.random()<0.5:\n",
    "        num1, num2 = num2, num1 \n",
    "\n",
    "    # Create Question and output\n",
    "    answer = num1 / num2\n",
    "    question = f\"{prompt}{num1} / {num2}\" \n",
    "    output = f\"{num1} / {num2} = {answer}\"\n",
    "    \n",
    "    division_output.append({'input': question, 'output': output, 'answer': str(answer)})\n",
    "    \n",
    "# View examples\n",
    "print(division_output[0])\n",
    "print(division_output[-1])"
   ]
  },
  {
   "cell_type": "markdown",
   "id": "e7ddb6c2",
   "metadata": {},
   "source": [
    "# Save Outputs"
   ]
  },
  {
   "cell_type": "code",
   "execution_count": 16,
   "id": "dac43878",
   "metadata": {},
   "outputs": [],
   "source": [
    "# Addition\n",
    "\n",
    "# Write output json\n",
    "addition_output_path = './data/addition_dataset.json'\n",
    "\n",
    "with open(addition_output_path, \"w\") as f:\n",
    "    json.dump(addition_output, f, indent=4)\n",
    "    \n",
    "# Verify creation\n",
    "assert(\"addition_dataset.json\" in os.listdir(\"data\"))\n",
    "\n",
    "# Subtraction\n",
    "\n",
    "# Write output json\n",
    "subtraction_output_path = './data/subtraction_dataset.json'\n",
    "\n",
    "with open(subtraction_output_path, \"w\") as f:\n",
    "    json.dump(subtraction_output, f, indent=4)\n",
    "    \n",
    "# Verify creation\n",
    "assert(\"subtraction_dataset.json\" in os.listdir(\"data\"))\n",
    "\n",
    "# Multiplication\n",
    "\n",
    "# Write output json\n",
    "multiplication_output_path = './data/multiplication_dataset.json'\n",
    "\n",
    "with open(multiplication_output_path, \"w\") as f:\n",
    "    json.dump(multiplication_output, f, indent=4)\n",
    "    \n",
    "# Verify creation\n",
    "assert(\"multiplication_dataset.json\" in os.listdir(\"data\"))\n",
    "\n",
    "# Division\n",
    "\n",
    "# Write output json\n",
    "division_output_path = './data/division_dataset.json'\n",
    "\n",
    "with open(division_output_path, \"w\") as f:\n",
    "    json.dump(division_output, f, indent=4)\n",
    "    \n",
    "# Verify creation\n",
    "assert(\"division_dataset.json\" in os.listdir(\"data\"))"
   ]
  },
  {
   "cell_type": "code",
   "execution_count": 22,
   "id": "05381924",
   "metadata": {},
   "outputs": [
    {
     "name": "stdout",
     "output_type": "stream",
     "text": [
      "Addition Data\n",
      "[\n",
      "\n",
      "    {\n",
      "\n",
      "        \"input\": \"What is 3231165 + 4533275279\",\n",
      "\n",
      "        \"output\": \"4536506444\",\n",
      "\n",
      "        \"answer\": \"4536506444\"\n",
      "\n",
      "    },\n",
      "\n",
      "    {\n",
      "\n",
      "        \"input\": \"What is 53 + 781681064\",\n",
      "\n",
      "        \"output\": \"781681117\",\n",
      "\n",
      "        \"answer\": \"781681117\"\n",
      "\n",
      "    },\n",
      "\n",
      "Subtraction Data\n",
      "[\n",
      "\n",
      "    {\n",
      "\n",
      "        \"input\": \"What is 3231165 - 4533275279\",\n",
      "\n",
      "        \"output\": \"3231165 - 4533275279 = -4530044114\",\n",
      "\n",
      "        \"answer\": \"-4530044114\"\n",
      "\n",
      "    },\n",
      "\n",
      "    {\n",
      "\n",
      "        \"input\": \"What is 53 - 781681064\",\n",
      "\n",
      "        \"output\": \"53 - 781681064 = -781681011\",\n",
      "\n",
      "        \"answer\": \"-781681011\"\n",
      "\n",
      "    },\n",
      "\n",
      "Multiplication Data\n",
      "[\n",
      "\n",
      "    {\n",
      "\n",
      "        \"input\": \"What is 3231165 * 4533275279\",\n",
      "\n",
      "        \"output\": \"3231165 * 4533275279 = 14647760416870035\",\n",
      "\n",
      "        \"answer\": \"14647760416870035\"\n",
      "\n",
      "    },\n",
      "\n",
      "    {\n",
      "\n",
      "        \"input\": \"What is 53 * 781681064\",\n",
      "\n",
      "        \"output\": \"53 * 781681064 = 41429096392\",\n",
      "\n",
      "        \"answer\": \"41429096392\"\n",
      "\n",
      "    },\n",
      "\n",
      "Division Data\n",
      "[\n",
      "\n",
      "    {\n",
      "\n",
      "        \"input\": \"What is 3231165 / 4533275279\",\n",
      "\n",
      "        \"output\": \"3231165 / 4533275279 = 0.0007127661130503344\",\n",
      "\n",
      "        \"answer\": \"0.0007127661130503344\"\n",
      "\n",
      "    },\n",
      "\n",
      "    {\n",
      "\n",
      "        \"input\": \"What is 781681064 / 53\",\n",
      "\n",
      "        \"output\": \"781681064 / 53 = 14748699.320754716\",\n",
      "\n",
      "        \"answer\": \"14748699.320754716\"\n",
      "\n",
      "    },\n",
      "\n"
     ]
    }
   ],
   "source": [
    "# Read in each dataset and print examples to verify\n",
    "print(\"Addition Data\")\n",
    "with open(addition_output_path, \"r\") as f:\n",
    "    file = f.readlines()\n",
    "    \n",
    "    for line in file[:11]:\n",
    "        print(line)\n",
    "        \n",
    "print(\"Subtraction Data\")\n",
    "with open(subtraction_output_path, \"r\") as f:\n",
    "    file = f.readlines()\n",
    "    \n",
    "    for line in file[:11]:\n",
    "        print(line)\n",
    "        \n",
    "print(\"Multiplication Data\")\n",
    "with open(multiplication_output_path, \"r\") as f:\n",
    "    file = f.readlines()\n",
    "    \n",
    "    for line in file[:11]:\n",
    "        print(line)\n",
    "        \n",
    "print(\"Division Data\")\n",
    "with open(division_output_path, \"r\") as f:\n",
    "    file = f.readlines()\n",
    "    \n",
    "    for line in file[:11]:\n",
    "        print(line)"
   ]
  },
  {
   "cell_type": "code",
   "execution_count": null,
   "id": "ef6f1960",
   "metadata": {},
   "outputs": [],
   "source": []
  }
 ],
 "metadata": {
  "kernelspec": {
   "display_name": "Python 3 (ipykernel)",
   "language": "python",
   "name": "python3"
  },
  "language_info": {
   "codemirror_mode": {
    "name": "ipython",
    "version": 3
   },
   "file_extension": ".py",
   "mimetype": "text/x-python",
   "name": "python",
   "nbconvert_exporter": "python",
   "pygments_lexer": "ipython3",
   "version": "3.10.12"
  }
 },
 "nbformat": 4,
 "nbformat_minor": 5
}
